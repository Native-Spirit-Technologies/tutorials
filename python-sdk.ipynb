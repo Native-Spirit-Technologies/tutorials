{
 "cells": [
  {
   "cell_type": "code",
   "execution_count": null,
   "id": "342ee9e3",
   "metadata": {},
   "outputs": [],
   "source": [
    "%pip install plutus-sdk"
   ]
  },
  {
   "cell_type": "code",
   "execution_count": null,
   "id": "19a73ffc",
   "metadata": {},
   "outputs": [],
   "source": [
    "!pip show plutus-sdk"
   ]
  },
  {
   "cell_type": "code",
   "execution_count": null,
   "id": "04f49cb8",
   "metadata": {},
   "outputs": [],
   "source": [
    "from plutus.client import PlutusSDK\n",
    "\n",
    "client = PlutusSDK()\n",
    "result = client.get_nyc_taxi_data()\n",
    "print(result)"
   ]
  }
 ],
 "metadata": {
  "kernelspec": {
   "display_name": "Python 3",
   "language": "python",
   "name": "python3"
  },
  "language_info": {
   "codemirror_mode": {
    "name": "ipython",
    "version": 3
   },
   "file_extension": ".py",
   "mimetype": "text/x-python",
   "name": "python",
   "nbconvert_exporter": "python",
   "pygments_lexer": "ipython3",
   "version": "3.11.7"
  }
 },
 "nbformat": 4,
 "nbformat_minor": 5
}
